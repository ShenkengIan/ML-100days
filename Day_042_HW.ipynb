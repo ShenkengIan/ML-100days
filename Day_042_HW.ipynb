{
 "cells": [
  {
   "cell_type": "markdown",
   "metadata": {},
   "source": [
    "## [作業重點]\n",
    "目前你應該已經要很清楚資料集中，資料的型態是什麼樣子囉！包含特徵 (features) 與標籤 (labels)。因此要記得未來不管什麼專案，必須要把資料清理成相同的格式，才能送進模型訓練。\n",
    "今天的作業開始踏入決策樹這個非常重要的模型，請務必確保你理解模型中每個超參數的意思，並試著調整看看，對最終預測結果的影響為何"
   ]
  },
  {
   "cell_type": "markdown",
   "metadata": {},
   "source": [
    "## 作業\n",
    "\n",
    "1. 試著調整 DecisionTreeClassifier(...) 中的參數，並觀察是否會改變結果？\n",
    "2. 改用其他資料集 (boston, wine)，並與回歸模型的結果進行比較"
   ]
  },
  {
   "cell_type": "code",
   "execution_count": 1,
   "metadata": {},
   "outputs": [],
   "source": [
    "from sklearn.datasets import load_wine\n",
    "from sklearn.tree import DecisionTreeClassifier,DecisionTreeRegressor\n",
    "from sklearn.model_selection import train_test_split\n",
    "from sklearn.metrics import accuracy_score\n"
   ]
  },
  {
   "cell_type": "code",
   "execution_count": 2,
   "metadata": {},
   "outputs": [
    {
     "name": "stdout",
     "output_type": "stream",
     "text": [
      "0.9444444444444444\n",
      "0.6666666666666666\n",
      "0.9444444444444444\n",
      "0.8888888888888888\n"
     ]
    }
   ],
   "source": [
    "wine = load_wine()\n",
    "\n",
    "x_train,x_test,y_train,y_test = train_test_split(wine.data,wine.target,test_size=0.1,random_state=4)\n",
    "\n",
    "regr1 = DecisionTreeClassifier(random_state=4)\n",
    "regr2 = DecisionTreeClassifier(max_depth = 1,random_state=4)\n",
    "regr3 = DecisionTreeClassifier(min_samples_split = 2 ,random_state=4)\n",
    "regr4 = DecisionTreeClassifier(min_samples_leaf = 10 ,random_state=4)\n",
    "\n",
    "regr1.fit(x_train,y_train)\n",
    "regr2.fit(x_train,y_train)\n",
    "regr3.fit(x_train, y_train)\n",
    "regr4.fit(x_train, y_train)\n",
    "\n",
    "y_pred1 = regr1.predict(x_test)\n",
    "y_pred2 = regr2.predict(x_test)\n",
    "y_pred3 = regr3.predict(x_test)\n",
    "y_pred4 = regr4.predict(x_test)\n",
    "\n",
    "print(accuracy_score(y_test,y_pred1))\n",
    "print(accuracy_score(y_test, y_pred2))\n",
    "print(accuracy_score(y_test, y_pred3))\n",
    "print(accuracy_score(y_test, y_pred4))\n"
   ]
  }
 ],
 "metadata": {
  "kernelspec": {
   "display_name": "Python 3",
   "language": "python",
   "name": "python3"
  },
  "language_info": {
   "codemirror_mode": {
    "name": "ipython",
    "version": 3
   },
   "file_extension": ".py",
   "mimetype": "text/x-python",
   "name": "python",
   "nbconvert_exporter": "python",
   "pygments_lexer": "ipython3",
   "version": "3.10.7"
  }
 },
 "nbformat": 4,
 "nbformat_minor": 2
}
