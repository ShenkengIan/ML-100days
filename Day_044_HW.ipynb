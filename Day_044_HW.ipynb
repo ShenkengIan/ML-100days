{
 "cells": [
  {
   "cell_type": "markdown",
   "metadata": {},
   "source": [
    "## [作業重點]\n",
    "確保你了解隨機森林模型中每個超參數的意義，並觀察調整超參數對結果的影響"
   ]
  },
  {
   "cell_type": "markdown",
   "metadata": {},
   "source": [
    "## 作業\n",
    "\n",
    "1. 試著調整 RandomForestClassifier(...) 中的參數，並觀察是否會改變結果？\n",
    "2. 改用其他資料集 (boston, wine)，並與回歸模型與決策樹的結果進行比較"
   ]
  },
  {
   "cell_type": "code",
   "execution_count": 5,
   "metadata": {},
   "outputs": [],
   "source": [
    "from sklearn.datasets import load_wine,load_diabetes\n",
    "from sklearn.ensemble import RandomForestClassifier,RandomForestRegressor\n",
    "from sklearn.model_selection import train_test_split\n",
    "from sklearn.metrics import accuracy_score,mean_squared_error\n"
   ]
  },
  {
   "cell_type": "code",
   "execution_count": 16,
   "metadata": {},
   "outputs": [
    {
     "name": "stdout",
     "output_type": "stream",
     "text": [
      "1.0\n",
      "1.0\n",
      "1.0\n",
      "1.0\n"
     ]
    },
    {
     "name": "stderr",
     "output_type": "stream",
     "text": [
      "c:\\Users\\ceci7\\AppData\\Local\\Programs\\Python\\Python310\\lib\\site-packages\\sklearn\\ensemble\\_forest.py:424: FutureWarning: `max_features='auto'` has been deprecated in 1.1 and will be removed in 1.3. To keep the past behaviour, explicitly set `max_features='sqrt'` or remove this parameter as it is also the default value for RandomForestClassifiers and ExtraTreesClassifiers.\n",
      "  warn(\n"
     ]
    }
   ],
   "source": [
    "wine = load_wine()\n",
    "\n",
    "x_train, x_test, y_train, y_test = train_test_split(\n",
    "    wine.data, wine.target, test_size=0.1, random_state=4)\n",
    "\n",
    "regr1 = RandomForestClassifier(n_estimators=20)\n",
    "regr2 = RandomForestClassifier(n_estimators=20, max_depth=4)\n",
    "regr3 = RandomForestClassifier(n_estimators=20, min_samples_split=2)\n",
    "regr4 = RandomForestClassifier(n_estimators=20, max_features=\"auto\")\n",
    "\n",
    "regr1.fit(x_train, y_train)\n",
    "regr2.fit(x_train, y_train)\n",
    "regr3.fit(x_train, y_train)\n",
    "regr4.fit(x_train, y_train)\n",
    "\n",
    "y_pred1 = regr1.predict(x_test)\n",
    "y_pred2 = regr2.predict(x_test)\n",
    "y_pred3 = regr3.predict(x_test)\n",
    "y_pred4 = regr4.predict(x_test)\n",
    "\n",
    "print(accuracy_score(y_test, y_pred1))\n",
    "print(accuracy_score(y_test, y_pred2))\n",
    "print(accuracy_score(y_test, y_pred3))\n",
    "print(accuracy_score(y_test, y_pred4))\n"
   ]
  },
  {
   "cell_type": "code",
   "execution_count": 17,
   "metadata": {},
   "outputs": [
    {
     "name": "stdout",
     "output_type": "stream",
     "text": [
      "0.0\n",
      "0.0\n",
      "0.0\n",
      "0.0\n"
     ]
    },
    {
     "name": "stderr",
     "output_type": "stream",
     "text": [
      "c:\\Users\\ceci7\\AppData\\Local\\Programs\\Python\\Python310\\lib\\site-packages\\sklearn\\ensemble\\_forest.py:424: FutureWarning: `max_features='auto'` has been deprecated in 1.1 and will be removed in 1.3. To keep the past behaviour, explicitly set `max_features='sqrt'` or remove this parameter as it is also the default value for RandomForestClassifiers and ExtraTreesClassifiers.\n",
      "  warn(\n"
     ]
    }
   ],
   "source": [
    "diabetes = load_diabetes()\n",
    "\n",
    "x_train, x_test, y_train, y_test = train_test_split(diabetes.data, diabetes.target, test_size=0.1, random_state=4)\n",
    "\n",
    "regr1 = RandomForestClassifier(n_estimators=20)\n",
    "regr2 = RandomForestClassifier(n_estimators=20, max_depth=4)\n",
    "regr3 = RandomForestClassifier(n_estimators=20, min_samples_split=2)\n",
    "regr4 = RandomForestClassifier(n_estimators=20, max_features=\"auto\")\n",
    "\n",
    "regr1.fit(x_train, y_train)\n",
    "regr2.fit(x_train, y_train)\n",
    "regr3.fit(x_train, y_train)\n",
    "regr4.fit(x_train, y_train)\n",
    "\n",
    "y_pred1 = regr1.predict(x_test)\n",
    "y_pred2 = regr2.predict(x_test)\n",
    "y_pred3 = regr3.predict(x_test)\n",
    "y_pred4 = regr4.predict(x_test)\n",
    "\n",
    "print(accuracy_score(y_test, y_pred1))\n",
    "print(accuracy_score(y_test, y_pred2))\n",
    "print(accuracy_score(y_test, y_pred3))\n",
    "print(accuracy_score(y_test, y_pred4))\n"
   ]
  }
 ],
 "metadata": {
  "kernelspec": {
   "display_name": "Python 3",
   "language": "python",
   "name": "python3"
  },
  "language_info": {
   "codemirror_mode": {
    "name": "ipython",
    "version": 3
   },
   "file_extension": ".py",
   "mimetype": "text/x-python",
   "name": "python",
   "nbconvert_exporter": "python",
   "pygments_lexer": "ipython3",
   "version": "3.10.7"
  }
 },
 "nbformat": 4,
 "nbformat_minor": 2
}
